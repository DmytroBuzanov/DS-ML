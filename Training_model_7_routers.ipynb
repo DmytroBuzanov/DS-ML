{
  "nbformat": 4,
  "nbformat_minor": 0,
  "metadata": {
    "colab": {
      "name": "Training_model_7_routers.ipynb",
      "provenance": [],
      "collapsed_sections": [],
      "include_colab_link": true
    },
    "kernelspec": {
      "name": "python3",
      "display_name": "Python 3"
    },
    "accelerator": "GPU"
  },
  "cells": [
    {
      "cell_type": "markdown",
      "metadata": {
        "id": "view-in-github",
        "colab_type": "text"
      },
      "source": [
        "<a href=\"https://colab.research.google.com/github/DmytroBuzanov/DS-ML/blob/main/Training_model_7_routers.ipynb\" target=\"_parent\"><img src=\"https://colab.research.google.com/assets/colab-badge.svg\" alt=\"Open In Colab\"/></a>"
      ]
    },
    {
      "cell_type": "code",
      "metadata": {
        "id": "oCn6VBy65YiU",
        "colab": {
          "base_uri": "https://localhost:8080/"
        },
        "outputId": "5ec2e4d6-8cbd-4bce-e0e1-7d3dcc07d736"
      },
      "source": [
        "%tensorflow_version 2.x\n",
        "import numpy as np\n",
        "import pandas as pd\n",
        "import time\n",
        "import matplotlib.pyplot as plt\n",
        "from tensorflow.keras.models import Sequential\n",
        "from tensorflow.keras.layers import Dense, Activation\n",
        "from tensorflow.keras.callbacks import EarlyStopping \n",
        "from tensorflow.keras import regularizers\n",
        "from tensorflow.keras.wrappers.scikit_learn import KerasClassifier\n",
        "from tensorflow.keras import metrics\n",
        "from tensorflow.keras.optimizers import SGD  \n",
        "from sklearn.model_selection import train_test_split\n",
        "from sklearn.preprocessing import StandardScaler\n",
        "from sklearn.preprocessing import Normalizer\n",
        "from sklearn.model_selection import GridSearchCV\n",
        "from sklearn.metrics import confusion_matrix\n",
        "from sklearn.metrics import classification_report\n",
        "from mlxtend.plotting import plot_confusion_matrix\n",
        "\n",
        "from google.colab import drive  \n",
        "drive.mount('/content/drive')"
      ],
      "execution_count": null,
      "outputs": [
        {
          "output_type": "stream",
          "text": [
            "Mounted at /content/drive\n"
          ],
          "name": "stdout"
        }
      ]
    },
    {
      "cell_type": "code",
      "metadata": {
        "id": "NtL_lBtE5kR0"
      },
      "source": [
        "df = pd.read_csv('/content/drive/My Drive/data/wifi_localization.txt', names=['WS1',\t'WS2',\t'WS3',\t'WS4',\t'WS5',\t'WS6',\t'WS7',\t'Class'], sep='\\t')\n"
      ],
      "execution_count": null,
      "outputs": []
    },
    {
      "cell_type": "code",
      "metadata": {
        "id": "1uXD1YmftlUx",
        "colab": {
          "base_uri": "https://localhost:8080/",
          "height": 134
        },
        "outputId": "a81f3266-687e-4d32-958b-b736de668d04"
      },
      "source": [
        "df.values[:, :7]"
      ],
      "execution_count": null,
      "outputs": [
        {
          "output_type": "execute_result",
          "data": {
            "text/plain": [
              "array([[-64, -56, -61, ..., -71, -82, -81],\n",
              "       [-68, -57, -61, ..., -71, -85, -85],\n",
              "       [-63, -60, -60, ..., -76, -85, -84],\n",
              "       ...,\n",
              "       [-62, -59, -46, ..., -45, -87, -88],\n",
              "       [-62, -58, -52, ..., -41, -90, -85],\n",
              "       [-59, -50, -45, ..., -45, -88, -87]])"
            ]
          },
          "metadata": {
            "tags": []
          },
          "execution_count": 3
        }
      ]
    },
    {
      "cell_type": "markdown",
      "metadata": {
        "id": "NYcyPl4Z1U8r"
      },
      "source": [
        "**Розбиття датасету на 3 вибірки**"
      ]
    },
    {
      "cell_type": "code",
      "metadata": {
        "id": "1S5gAQw25lnm",
        "colab": {
          "base_uri": "https://localhost:8080/",
          "height": 34
        },
        "outputId": "fd31a915-94d2-48d0-eced-32702bf8e44d"
      },
      "source": [
        "num_classes = 4\n",
        "X_train, X_test, y_train, y_test = train_test_split(df.values[:, :7],    \n",
        "                                                    df.values[:, -1] - 1, \n",
        "                                                    test_size=0.25,\n",
        "                                                    random_state=20)\n",
        "X_train, X_val, y_train, y_val = train_test_split(X_train,                         \n",
        "                                                y_train, \n",
        "                                                test_size=0.10, \n",
        "                                                random_state=20)\n",
        "\n",
        "print(X_train.shape, X_val.shape, X_test.shape)"
      ],
      "execution_count": null,
      "outputs": [
        {
          "output_type": "stream",
          "text": [
            "(1350, 7) (150, 7) (500, 7)\n"
          ],
          "name": "stdout"
        }
      ]
    },
    {
      "cell_type": "markdown",
      "metadata": {
        "id": "7GcHa7c51fDx"
      },
      "source": [
        "**Нормалізація**"
      ]
    },
    {
      "cell_type": "code",
      "metadata": {
        "id": "RBeeHRgn5nXV",
        "colab": {
          "base_uri": "https://localhost:8080/",
          "height": 34
        },
        "outputId": "283d6770-5291-44b7-c040-6990920de787"
      },
      "source": [
        "scaler = StandardScaler()\n",
        "print(scaler.fit(X_train))\n",
        "\n",
        "X_train_scaled = scaler.transform(X_train)                        # Standard Score\n",
        "X_test_scaled = scaler.transform(X_test)\n",
        "X_val_scaled = scaler.transform(X_val)\n",
        "\n"
      ],
      "execution_count": null,
      "outputs": [
        {
          "output_type": "stream",
          "text": [
            "StandardScaler(copy=True, with_mean=True, with_std=True)\n"
          ],
          "name": "stdout"
        }
      ]
    },
    {
      "cell_type": "code",
      "metadata": {
        "id": "jakiSA_55ogO"
      },
      "source": [
        "def create_model(learn_rate=0.01, \n",
        "                 momentum=0,\n",
        "                 k_l1=0, \n",
        "                 k_l2=0,\n",
        "                 neurons_1=1, \n",
        "                 neurons_2=1):\n",
        "  model = Sequential([\n",
        "    Dense(neurons_1, input_shape=(7,), activation='relu',kernel_regularizer=regularizers.l1_l2(k_l1, k_l2)),\n",
        "    # Dense(neurons, activation='relu',kernel_regularizer=regularizers.l1(k_l1)),\n",
        "    Dense(neurons_2, activation='relu',kernel_regularizer=regularizers.l1_l2(k_l1, k_l2)),\n",
        "    Dense(4, activation='softmax',kernel_regularizer=regularizers.l1_l2(k_l1, k_l2))])\n",
        "\n",
        "\n",
        "  \n",
        "\n",
        "  model.compile(optimizer=SGD(lr=learn_rate, momentum=momentum),              \n",
        "                loss='sparse_categorical_crossentropy', \n",
        "                metrics=['sparse_categorical_accuracy'])\n",
        "                               \n",
        "  return model"
      ],
      "execution_count": null,
      "outputs": []
    },
    {
      "cell_type": "code",
      "metadata": {
        "id": "8lssYCww5p3G"
      },
      "source": [
        "cross_val_model = KerasClassifier(build_fn=create_model, epochs=1000, batch_size=32, verbose=0)"
      ],
      "execution_count": null,
      "outputs": []
    },
    {
      "cell_type": "markdown",
      "metadata": {
        "id": "wRUAezCJdLg9"
      },
      "source": [
        "**Early Stopping**"
      ]
    },
    {
      "cell_type": "code",
      "metadata": {
        "id": "XjPdsX8e5rAe"
      },
      "source": [
        "early_Stop = EarlyStopping(monitor='val_loss',                                  # Early Stopping Regularization \n",
        "                           patience=20,\n",
        "                           verbose=1,                        \n",
        "                           restore_best_weights=True)"
      ],
      "execution_count": null,
      "outputs": []
    },
    {
      "cell_type": "code",
      "metadata": {
        "id": "DIIJr8id5sbV",
        "colab": {
          "base_uri": "https://localhost:8080/",
          "height": 151
        },
        "outputId": "1656a226-8a83-47d8-a8dc-db1bfd0aa57b"
      },
      "source": [
        "model = create_model(k_l1=0.01, learn_rate=0.01, momentum=0.8, neurons_1=6, neurons_2=9)\n",
        "\n",
        "history = model.fit(X_train_scaled, y_train, epochs=1000, callbacks = [early_Stop], validation_data=(X_val_scaled, y_val), verbose=0)\n",
        "\n",
        "model.evaluate(X_train_scaled, y_train), model.evaluate(X_val_scaled, y_val), model.evaluate(X_test_scaled, y_test)"
      ],
      "execution_count": null,
      "outputs": [
        {
          "output_type": "stream",
          "text": [
            "Restoring model weights from the end of the best epoch.\n",
            "Epoch 00339: early stopping\n",
            "43/43 [==============================] - 0s 2ms/step - loss: 0.2616 - sparse_categorical_accuracy: 0.9896\n",
            "5/5 [==============================] - 0s 2ms/step - loss: 0.2628 - sparse_categorical_accuracy: 0.9800\n",
            "16/16 [==============================] - 0s 2ms/step - loss: 0.2750 - sparse_categorical_accuracy: 0.9800\n"
          ],
          "name": "stdout"
        },
        {
          "output_type": "execute_result",
          "data": {
            "text/plain": [
              "([0.26155877113342285, 0.9896296262741089],\n",
              " [0.26281487941741943, 0.9800000190734863],\n",
              " [0.2749596834182739, 0.9800000190734863])"
            ]
          },
          "metadata": {
            "tags": []
          },
          "execution_count": 8
        }
      ]
    },
    {
      "cell_type": "markdown",
      "metadata": {
        "id": "om1sQVM6Ragc"
      },
      "source": [
        "**Перехресна перевірка: Grid Search**"
      ]
    },
    {
      "cell_type": "code",
      "metadata": {
        "id": "soeDAIMJ5tyH"
      },
      "source": [
        "grid = GridSearchCV(estimator=cross_val_model, verbose=0, \n",
        "                                                                                \n",
        "                    scoring='accuracy',\n",
        "                    param_grid={'k_l1':[0.01],                                  \n",
        "                                'learn_rate':[0.01],                             \n",
        "                                'momentum':[0.8],                               \n",
        "                                'neurons_1':[6],                                \n",
        "                                'neurons_2':[9],                                \n",
        "                                },                           \n",
        "                    cv = 5) "
      ],
      "execution_count": null,
      "outputs": []
    },
    {
      "cell_type": "code",
      "metadata": {
        "id": "8lEhJIdl5u_O",
        "colab": {
          "base_uri": "https://localhost:8080/",
          "height": 322
        },
        "outputId": "f6eef0d1-c205-411c-c29c-e414c84b6236"
      },
      "source": [
        "grid_result = grid.fit(X_train_scaled, y_train, callbacks = [early_Stop], validation_data=(X_val_scaled, y_val), verbose=0)\n",
        "\n",
        "print('The parameters of the best model are: ')\n",
        "print(grid_result.best_params_)\n",
        "\n",
        "best_model = grid_result.best_estimator_.model\n",
        "best_model.evaluate(X_test_scaled, y_test)"
      ],
      "execution_count": null,
      "outputs": [
        {
          "output_type": "stream",
          "text": [
            "Restoring model weights from the end of the best epoch.\n",
            "Epoch 00553: early stopping\n",
            "WARNING:tensorflow:From /usr/local/lib/python3.6/dist-packages/tensorflow/python/keras/wrappers/scikit_learn.py:241: Sequential.predict_classes (from tensorflow.python.keras.engine.sequential) is deprecated and will be removed after 2021-01-01.\n",
            "Instructions for updating:\n",
            "Please use instead:* `np.argmax(model.predict(x), axis=-1)`,   if your model does multi-class classification   (e.g. if it uses a `softmax` last-layer activation).* `(model.predict(x) > 0.5).astype(\"int32\")`,   if your model does binary classification   (e.g. if it uses a `sigmoid` last-layer activation).\n",
            "Restoring model weights from the end of the best epoch.\n",
            "Epoch 00553: early stopping\n",
            "Restoring model weights from the end of the best epoch.\n",
            "Epoch 00438: early stopping\n",
            "Restoring model weights from the end of the best epoch.\n",
            "Epoch 00457: early stopping\n",
            "Restoring model weights from the end of the best epoch.\n",
            "Epoch 00543: early stopping\n",
            "The parameters of the best model are: \n",
            "{'k_l1': 0.01, 'learn_rate': 0.01, 'momentum': 0.8, 'neurons_1': 6, 'neurons_2': 9}\n",
            "16/16 [==============================] - 0s 2ms/step - loss: 0.2681 - sparse_categorical_accuracy: 0.9800\n"
          ],
          "name": "stdout"
        },
        {
          "output_type": "execute_result",
          "data": {
            "text/plain": [
              "[0.2681058347225189, 0.9800000190734863]"
            ]
          },
          "metadata": {
            "tags": []
          },
          "execution_count": 17
        }
      ]
    },
    {
      "cell_type": "markdown",
      "metadata": {
        "id": "sbdIMaTfd6N7"
      },
      "source": [
        "**Візуалізація навчання моделі**"
      ]
    },
    {
      "cell_type": "code",
      "metadata": {
        "id": "m5XJ9Irbkf9v",
        "colab": {
          "base_uri": "https://localhost:8080/",
          "height": 87
        },
        "outputId": "eef4bd55-d03d-438a-8c0c-04617097cae3"
      },
      "source": [
        "print(history.history.keys())\n",
        "print(history.history['sparse_categorical_accuracy'])\n",
        "print(history.history['val_sparse_categorical_accuracy'])"
      ],
      "execution_count": null,
      "outputs": [
        {
          "output_type": "stream",
          "text": [
            "dict_keys(['loss', 'sparse_categorical_accuracy', 'val_loss', 'val_sparse_categorical_accuracy'])\n",
            "[0.529629647731781, 0.7429629564285278, 0.8748148083686829, 0.9392592310905457, 0.9592592716217041, 0.9681481719017029, 0.9733333587646484, 0.9733333587646484, 0.9748148322105408, 0.9762963056564331, 0.9777777791023254, 0.9777777791023254, 0.9800000190734863, 0.9814814925193787, 0.9792592525482178, 0.9807407259941101, 0.9800000190734863, 0.982962965965271, 0.982962965965271, 0.9844444394111633, 0.9844444394111633, 0.9822221994400024, 0.9837037324905396, 0.9844444394111633, 0.9866666793823242, 0.9822221994400024, 0.9859259128570557, 0.9859259128570557, 0.9859259128570557, 0.9844444394111633, 0.9859259128570557, 0.9859259128570557, 0.9837037324905396, 0.9866666793823242, 0.9851852059364319, 0.9859259128570557, 0.9844444394111633, 0.9859259128570557, 0.9851852059364319, 0.9851852059364319, 0.9859259128570557, 0.9851852059364319, 0.9859259128570557, 0.9851852059364319, 0.9859259128570557, 0.9844444394111633, 0.9851852059364319, 0.9859259128570557, 0.9859259128570557, 0.9844444394111633, 0.987407386302948, 0.9859259128570557, 0.9859259128570557, 0.9859259128570557, 0.9859259128570557, 0.9859259128570557, 0.9859259128570557, 0.9851852059364319, 0.9844444394111633, 0.9859259128570557, 0.9866666793823242, 0.9866666793823242, 0.9866666793823242, 0.9866666793823242, 0.9851852059364319, 0.9859259128570557, 0.9866666793823242, 0.9851852059364319, 0.9859259128570557, 0.9859259128570557, 0.9866666793823242, 0.987407386302948, 0.9859259128570557, 0.9859259128570557, 0.9859259128570557, 0.987407386302948, 0.9866666793823242, 0.9866666793823242, 0.9866666793823242, 0.9859259128570557, 0.9866666793823242, 0.9866666793823242, 0.9866666793823242, 0.9851852059364319, 0.9866666793823242, 0.9866666793823242, 0.9866666793823242, 0.9866666793823242, 0.9881481528282166, 0.9851852059364319, 0.9851852059364319, 0.987407386302948, 0.9866666793823242, 0.9866666793823242, 0.9851852059364319, 0.9859259128570557, 0.9866666793823242, 0.9881481528282166, 0.9844444394111633, 0.9859259128570557, 0.9844444394111633, 0.987407386302948, 0.9866666793823242, 0.987407386302948, 0.9851852059364319, 0.9859259128570557, 0.9866666793823242, 0.9851852059364319, 0.9844444394111633, 0.9866666793823242, 0.9866666793823242, 0.9866666793823242, 0.9866666793823242, 0.9859259128570557, 0.9866666793823242, 0.9866666793823242, 0.9859259128570557, 0.9844444394111633, 0.9851852059364319, 0.9859259128570557, 0.9859259128570557, 0.9859259128570557, 0.9859259128570557, 0.9844444394111633, 0.9859259128570557, 0.9851852059364319, 0.9859259128570557, 0.9866666793823242, 0.9859259128570557, 0.9866666793823242, 0.9851852059364319, 0.9851852059364319, 0.9859259128570557, 0.9851852059364319, 0.9866666793823242, 0.9851852059364319, 0.9866666793823242, 0.9866666793823242, 0.9851852059364319, 0.9859259128570557, 0.9859259128570557, 0.9859259128570557, 0.9844444394111633, 0.9866666793823242, 0.9859259128570557, 0.9851852059364319, 0.987407386302948, 0.9859259128570557, 0.9837037324905396, 0.987407386302948, 0.9859259128570557, 0.987407386302948, 0.9851852059364319, 0.9859259128570557, 0.9859259128570557, 0.9844444394111633, 0.9859259128570557, 0.9851852059364319, 0.9837037324905396, 0.9859259128570557, 0.9866666793823242, 0.9859259128570557, 0.9859259128570557, 0.9859259128570557, 0.9859259128570557, 0.9866666793823242, 0.9859259128570557, 0.9859259128570557, 0.987407386302948, 0.9851852059364319, 0.9859259128570557, 0.9866666793823242, 0.9851852059364319, 0.9866666793823242, 0.9866666793823242, 0.9851852059364319, 0.9866666793823242, 0.987407386302948, 0.9881481528282166, 0.9844444394111633, 0.9859259128570557, 0.9851852059364319, 0.9866666793823242, 0.9859259128570557, 0.9851852059364319, 0.9859259128570557, 0.9859259128570557, 0.9866666793823242, 0.9866666793823242, 0.9859259128570557, 0.9859259128570557, 0.987407386302948, 0.9866666793823242, 0.9859259128570557, 0.9866666793823242, 0.9859259128570557, 0.9859259128570557, 0.9866666793823242, 0.9859259128570557, 0.9859259128570557, 0.9866666793823242, 0.9859259128570557, 0.9859259128570557, 0.9844444394111633, 0.9844444394111633, 0.9866666793823242, 0.9866666793823242, 0.9859259128570557, 0.987407386302948, 0.9859259128570557, 0.9851852059364319, 0.987407386302948, 0.9859259128570557, 0.9859259128570557, 0.9859259128570557, 0.9866666793823242, 0.9859259128570557, 0.987407386302948, 0.9859259128570557, 0.9844444394111633, 0.9866666793823242, 0.9859259128570557, 0.9851852059364319, 0.9859259128570557, 0.9851852059364319, 0.9859259128570557, 0.9851852059364319, 0.9881481528282166, 0.9851852059364319, 0.987407386302948, 0.9866666793823242, 0.9859259128570557, 0.987407386302948, 0.9859259128570557, 0.9844444394111633, 0.987407386302948, 0.9851852059364319, 0.9866666793823242, 0.9851852059364319, 0.9859259128570557, 0.9866666793823242, 0.9881481528282166, 0.9866666793823242, 0.987407386302948, 0.9859259128570557, 0.9888888597488403, 0.9859259128570557, 0.9859259128570557, 0.9859259128570557, 0.987407386302948, 0.9866666793823242, 0.9881481528282166, 0.9866666793823242, 0.9881481528282166, 0.9866666793823242, 0.987407386302948, 0.987407386302948, 0.987407386302948, 0.9888888597488403, 0.987407386302948, 0.9859259128570557, 0.987407386302948, 0.9881481528282166, 0.987407386302948, 0.9866666793823242, 0.987407386302948, 0.9859259128570557, 0.9851852059364319, 0.9851852059364319, 0.9851852059364319, 0.987407386302948, 0.9851852059364319, 0.9866666793823242, 0.9866666793823242, 0.9881481528282166, 0.9859259128570557, 0.9866666793823242, 0.9851852059364319, 0.987407386302948, 0.987407386302948, 0.987407386302948, 0.987407386302948, 0.9888888597488403, 0.9881481528282166, 0.9866666793823242, 0.9866666793823242, 0.9866666793823242, 0.9866666793823242, 0.9881481528282166, 0.9866666793823242, 0.987407386302948, 0.987407386302948, 0.9866666793823242, 0.9866666793823242, 0.9859259128570557, 0.9866666793823242, 0.9881481528282166, 0.9851852059364319, 0.9866666793823242, 0.987407386302948, 0.987407386302948, 0.987407386302948, 0.987407386302948, 0.9881481528282166, 0.9859259128570557, 0.987407386302948, 0.9866666793823242, 0.987407386302948, 0.9866666793823242, 0.9888888597488403, 0.987407386302948, 0.9859259128570557, 0.987407386302948, 0.9859259128570557, 0.9866666793823242, 0.9859259128570557, 0.9866666793823242, 0.9888888597488403, 0.987407386302948, 0.987407386302948, 0.9866666793823242, 0.987407386302948, 0.9866666793823242, 0.987407386302948, 0.987407386302948, 0.987407386302948, 0.987407386302948, 0.9866666793823242, 0.9881481528282166, 0.9851852059364319, 0.9881481528282166, 0.9881481528282166, 0.9866666793823242, 0.9866666793823242, 0.987407386302948, 0.987407386302948, 0.987407386302948, 0.987407386302948, 0.987407386302948]\n",
            "[0.653333306312561, 0.7933333516120911, 0.9266666769981384, 0.95333331823349, 0.9666666388511658, 0.9666666388511658, 0.9666666388511658, 0.9733333587646484, 0.9733333587646484, 0.9733333587646484, 0.9733333587646484, 0.9733333587646484, 0.9733333587646484, 0.9733333587646484, 0.9733333587646484, 0.9733333587646484, 0.9733333587646484, 0.9866666793823242, 0.9800000190734863, 0.9800000190734863, 0.9933333396911621, 0.9800000190734863, 0.9800000190734863, 0.9866666793823242, 0.9933333396911621, 0.9800000190734863, 0.9933333396911621, 0.9933333396911621, 0.9933333396911621, 0.9933333396911621, 0.9933333396911621, 0.9933333396911621, 0.9866666793823242, 0.9866666793823242, 0.9933333396911621, 0.9933333396911621, 0.9800000190734863, 0.9800000190734863, 0.9800000190734863, 0.9933333396911621, 0.9933333396911621, 0.9933333396911621, 0.9866666793823242, 0.9800000190734863, 0.9866666793823242, 0.9933333396911621, 0.9866666793823242, 0.9866666793823242, 0.9866666793823242, 0.9866666793823242, 0.9866666793823242, 0.9933333396911621, 0.9866666793823242, 0.9866666793823242, 0.9866666793823242, 0.9866666793823242, 0.9866666793823242, 0.9866666793823242, 0.9866666793823242, 0.9866666793823242, 0.9800000190734863, 0.9866666793823242, 0.9866666793823242, 0.9866666793823242, 0.9866666793823242, 0.9866666793823242, 0.9866666793823242, 0.9866666793823242, 0.9800000190734863, 0.9800000190734863, 0.9866666793823242, 0.9800000190734863, 0.9866666793823242, 0.9800000190734863, 0.9866666793823242, 0.9866666793823242, 0.9800000190734863, 0.9866666793823242, 0.9800000190734863, 0.9800000190734863, 0.9800000190734863, 0.9800000190734863, 0.9866666793823242, 0.9800000190734863, 0.9800000190734863, 0.9800000190734863, 0.9800000190734863, 0.9866666793823242, 0.9866666793823242, 0.9800000190734863, 0.9800000190734863, 0.9866666793823242, 0.9866666793823242, 0.9866666793823242, 0.9800000190734863, 0.9866666793823242, 0.9866666793823242, 0.9866666793823242, 0.9866666793823242, 0.9800000190734863, 0.9800000190734863, 0.9800000190734863, 0.9800000190734863, 0.9800000190734863, 0.9866666793823242, 0.9866666793823242, 0.9866666793823242, 0.9866666793823242, 0.9800000190734863, 0.9800000190734863, 0.9800000190734863, 0.9800000190734863, 0.9800000190734863, 0.9800000190734863, 0.9800000190734863, 0.9800000190734863, 0.9800000190734863, 0.9800000190734863, 0.9800000190734863, 0.9866666793823242, 0.9800000190734863, 0.9866666793823242, 0.9800000190734863, 0.9866666793823242, 0.9800000190734863, 0.9800000190734863, 0.9800000190734863, 0.9800000190734863, 0.9866666793823242, 0.9800000190734863, 0.9800000190734863, 0.9800000190734863, 0.9800000190734863, 0.9800000190734863, 0.9866666793823242, 0.9866666793823242, 0.9800000190734863, 0.9866666793823242, 0.9800000190734863, 0.9800000190734863, 0.9866666793823242, 0.9800000190734863, 0.9800000190734863, 0.9800000190734863, 0.9866666793823242, 0.9866666793823242, 0.9800000190734863, 0.9800000190734863, 0.9800000190734863, 0.9800000190734863, 0.9800000190734863, 0.9866666793823242, 0.9800000190734863, 0.9800000190734863, 0.9800000190734863, 0.9800000190734863, 0.9866666793823242, 0.9866666793823242, 0.9800000190734863, 0.9800000190734863, 0.9800000190734863, 0.9800000190734863, 0.9866666793823242, 0.9800000190734863, 0.9866666793823242, 0.9800000190734863, 0.9800000190734863, 0.9800000190734863, 0.9800000190734863, 0.9800000190734863, 0.9866666793823242, 0.9800000190734863, 0.9800000190734863, 0.9866666793823242, 0.9800000190734863, 0.9866666793823242, 0.9800000190734863, 0.9800000190734863, 0.9866666793823242, 0.9800000190734863, 0.9800000190734863, 0.9866666793823242, 0.9800000190734863, 0.9800000190734863, 0.9800000190734863, 0.9800000190734863, 0.9866666793823242, 0.9800000190734863, 0.9866666793823242, 0.9800000190734863, 0.9866666793823242, 0.9800000190734863, 0.9866666793823242, 0.9800000190734863, 0.9866666793823242, 0.9866666793823242, 0.9866666793823242, 0.9800000190734863, 0.9800000190734863, 0.9800000190734863, 0.9800000190734863, 0.9866666793823242, 0.9866666793823242, 0.9800000190734863, 0.9866666793823242, 0.9800000190734863, 0.9800000190734863, 0.9800000190734863, 0.9800000190734863, 0.9800000190734863, 0.9866666793823242, 0.9800000190734863, 0.9800000190734863, 0.9866666793823242, 0.9866666793823242, 0.9866666793823242, 0.9800000190734863, 0.9800000190734863, 0.9866666793823242, 0.9800000190734863, 0.9800000190734863, 0.9800000190734863, 0.9866666793823242, 0.9800000190734863, 0.9800000190734863, 0.9866666793823242, 0.9800000190734863, 0.9800000190734863, 0.9866666793823242, 0.9866666793823242, 0.9800000190734863, 0.9866666793823242, 0.9866666793823242, 0.9866666793823242, 0.9866666793823242, 0.9800000190734863, 0.9800000190734863, 0.9800000190734863, 0.9866666793823242, 0.9866666793823242, 0.9866666793823242, 0.9800000190734863, 0.9866666793823242, 0.9800000190734863, 0.9866666793823242, 0.9800000190734863, 0.9800000190734863, 0.9800000190734863, 0.9800000190734863, 0.9866666793823242, 0.9866666793823242, 0.9866666793823242, 0.9866666793823242, 0.9800000190734863, 0.9866666793823242, 0.9800000190734863, 0.9800000190734863, 0.9800000190734863, 0.9800000190734863, 0.9866666793823242, 0.9866666793823242, 0.9866666793823242, 0.9800000190734863, 0.9866666793823242, 0.9800000190734863, 0.9800000190734863, 0.9866666793823242, 0.9800000190734863, 0.9800000190734863, 0.9800000190734863, 0.9800000190734863, 0.9800000190734863, 0.9866666793823242, 0.9866666793823242, 0.9866666793823242, 0.9800000190734863, 0.9866666793823242, 0.9800000190734863, 0.9866666793823242, 0.9800000190734863, 0.9866666793823242, 0.9800000190734863, 0.9866666793823242, 0.9800000190734863, 0.9800000190734863, 0.9800000190734863, 0.9800000190734863, 0.9800000190734863, 0.9800000190734863, 0.9866666793823242, 0.9866666793823242, 0.9866666793823242, 0.9866666793823242, 0.9866666793823242, 0.9866666793823242, 0.9800000190734863, 0.9866666793823242, 0.9866666793823242, 0.9866666793823242, 0.9800000190734863, 0.9866666793823242, 0.9866666793823242, 0.9866666793823242, 0.9866666793823242, 0.9800000190734863, 0.9866666793823242, 0.9866666793823242, 0.9800000190734863, 0.9800000190734863, 0.9800000190734863, 0.9866666793823242, 0.9866666793823242, 0.9866666793823242, 0.9866666793823242, 0.9800000190734863, 0.9866666793823242, 0.9866666793823242, 0.9800000190734863, 0.9800000190734863, 0.9800000190734863, 0.9800000190734863, 0.9800000190734863, 0.9800000190734863, 0.9866666793823242, 0.9800000190734863, 0.9866666793823242, 0.9866666793823242, 0.9800000190734863, 0.9800000190734863, 0.9866666793823242, 0.9800000190734863, 0.9866666793823242, 0.9866666793823242, 0.9866666793823242, 0.9866666793823242, 0.9866666793823242, 0.9866666793823242, 0.9866666793823242, 0.9800000190734863]\n"
          ],
          "name": "stdout"
        }
      ]
    },
    {
      "cell_type": "code",
      "metadata": {
        "id": "-yHWZxwyk-Fq",
        "colab": {
          "base_uri": "https://localhost:8080/",
          "height": 279
        },
        "outputId": "694dc43c-7a11-42a6-eaad-a2362c2f6b05"
      },
      "source": [
        "plt.plot(history.history['sparse_categorical_accuracy'], label='Точність на навчальному наборі')\n",
        "plt.plot(history.history['val_sparse_categorical_accuracy'], label='Точність на тестовому наборі')\n",
        "plt.xlabel('Епоха навчання')\n",
        "plt.ylabel('Точність')\n",
        "plt.legend()\n",
        "plt.show()"
      ],
      "execution_count": null,
      "outputs": [
        {
          "output_type": "display_data",
          "data": {
            "image/png": "[encoded data removed]",
            "text/plain": [
              "<Figure size 432x288 with 1 Axes>"
            ]
          },
          "metadata": {
            "tags": [],
            "needs_background": "light"
          }
        }
      ]
    },
    {
      "cell_type": "code",
      "metadata": {
        "id": "rJGANHRpmEtD",
        "colab": {
          "base_uri": "https://localhost:8080/",
          "height": 279
        },
        "outputId": "6cde46f3-a11c-4577-8297-314a62fd0be4"
      },
      "source": [
        "plt.plot(history.history['loss'], label='Помилка на навчальному наборі')\n",
        "plt.plot(history.history['val_loss'], label='Помилка на тестовому наборі')\n",
        "plt.xlabel('Епоха навчання')\n",
        "plt.ylabel('Помилка')\n",
        "plt.legend()\n",
        "plt.show()"
      ],
      "execution_count": null,
      "outputs": [
        {
          "output_type": "display_data",
          "data": {
            "image/png": "[encoded data removed]",
            "text/plain": [
              "<Figure size 432x288 with 1 Axes>"
            ]
          },
          "metadata": {
            "tags": [],
            "needs_background": "light"
          }
        }
      ]
    },
    {
      "cell_type": "markdown",
      "metadata": {
        "id": "pkUioZSzjCHO"
      },
      "source": [
        "**Матриця помилок**"
      ]
    },
    {
      "cell_type": "code",
      "metadata": {
        "id": "4QwtmCXwJgqK",
        "colab": {
          "base_uri": "https://localhost:8080/",
          "height": 84
        },
        "outputId": "ade8babe-52f4-4fa5-c58c-5d3edff38c93"
      },
      "source": [
        "y_pred = np.argmax(model.predict(X_test_scaled), axis=1)\n",
        "confusion_matrix(y_test, y_pred)"
      ],
      "execution_count": null,
      "outputs": [
        {
          "output_type": "execute_result",
          "data": {
            "text/plain": [
              "array([[134,   0,   0,   0],\n",
              "       [  0, 130,   2,   0],\n",
              "       [  1,   4, 106,   1],\n",
              "       [  0,   0,   2, 120]])"
            ]
          },
          "metadata": {
            "tags": []
          },
          "execution_count": 18
        }
      ]
    },
    {
      "cell_type": "code",
      "metadata": {
        "id": "pdS-uu4kMNtw",
        "colab": {
          "base_uri": "https://localhost:8080/",
          "height": 632
        },
        "outputId": "b9a531e1-a428-47ab-9dfe-5ff44da04434"
      },
      "source": [
        "plt.rcParams.update({'font.size': 16})\n",
        "\n",
        "cm  = confusion_matrix(y_test, y_pred)\n",
        "plt.figure()\n",
        "plot_confusion_matrix(cm,figsize=(10, 10), hide_ticks=True,cmap=plt.cm.Blues)\n",
        "plt.xticks(range(4), ['Приміщення 1', 'Приміщення 2', 'Приміщення 3', 'Приміщення 4'], fontsize=14)\n",
        "plt.yticks(range(4), ['Приміщення 1', 'Приміщення 2', 'Приміщення 3', 'Приміщення 4'], rotation=0, fontsize=14) \n",
        "plt.show()"
      ],
      "execution_count": null,
      "outputs": [
        {
          "output_type": "display_data",
          "data": {
            "text/plain": [
              "<Figure size 432x288 with 0 Axes>"
            ]
          },
          "metadata": {
            "tags": []
          }
        },
        {
          "output_type": "display_data",
          "data": {
            "image/png": "[encoded data removed]",
            "text/plain": [
              "<Figure size 720x720 with 1 Axes>"
            ]
          },
          "metadata": {
            "tags": [],
            "needs_background": "light"
          }
        }
      ]
    },
    {
      "cell_type": "markdown",
      "metadata": {
        "id": "jI4tOabWc4Id"
      },
      "source": [
        "**Classification report**"
      ]
    },
    {
      "cell_type": "code",
      "metadata": {
        "id": "F_ZuOPzi-5ac",
        "colab": {
          "base_uri": "https://localhost:8080/",
          "height": 202
        },
        "outputId": "d808d8e3-e519-4a1e-80e3-1582cf55c21d"
      },
      "source": [
        "print (classification_report(y_test, y_pred))"
      ],
      "execution_count": null,
      "outputs": [
        {
          "output_type": "stream",
          "text": [
            "              precision    recall  f1-score   support\n",
            "\n",
            "           0       0.99      1.00      1.00       134\n",
            "           1       0.97      0.98      0.98       132\n",
            "           2       0.96      0.95      0.95       112\n",
            "           3       0.99      0.98      0.99       122\n",
            "\n",
            "    accuracy                           0.98       500\n",
            "   macro avg       0.98      0.98      0.98       500\n",
            "weighted avg       0.98      0.98      0.98       500\n",
            "\n"
          ],
          "name": "stdout"
        }
      ]
    }
  ]
}