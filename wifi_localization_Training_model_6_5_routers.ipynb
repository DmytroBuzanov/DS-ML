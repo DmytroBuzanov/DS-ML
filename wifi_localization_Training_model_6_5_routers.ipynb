{
  "nbformat": 4,
  "nbformat_minor": 0,
  "metadata": {
    "colab": {
      "name": "wifi_localization_Training model_6-5_routers.ipynb",
      "provenance": [],
      "collapsed_sections": [],
      "authorship_tag": "ABX9TyMqi/KKye9fzhyAbTtQaei+",
      "include_colab_link": true
    },
    "kernelspec": {
      "name": "python3",
      "display_name": "Python 3"
    },
    "accelerator": "GPU"
  },
  "cells": [
    {
      "cell_type": "markdown",
      "metadata": {
        "id": "view-in-github",
        "colab_type": "text"
      },
      "source": [
        "<a href=\"https://colab.research.google.com/github/DmytroBuzanov/DS_ML/blob/main/wifi_localization_Training_model_6_5_routers.ipynb\" target=\"_parent\"><img src=\"https://colab.research.google.com/assets/colab-badge.svg\" alt=\"Open In Colab\"/></a>"
      ]
    },
    {
      "cell_type": "code",
      "metadata": {
        "id": "Z8bBxDevHxiw",
        "colab": {
          "base_uri": "https://localhost:8080/"
        },
        "outputId": "6e4a5a3c-5d10-4fa7-d441-54e239d52987"
      },
      "source": [
        "%tensorflow_version 1.x\n",
        "import tensorflow.keras\n",
        "from tensorflow.keras.models import Sequential\n",
        "from tensorflow.keras.layers import Dense, Activation\n",
        "import numpy as np\n",
        "from sklearn.model_selection import train_test_split\n",
        "import pandas as pd\n",
        "from keras.callbacks import EarlyStopping \n",
        "import time\n",
        "\n",
        "from sklearn.preprocessing import StandardScaler\n",
        "from tensorflow.keras import regularizers\n",
        "from tensorflow.keras.optimizers import SGD  \n",
        "from tensorflow.keras.wrappers.scikit_learn import KerasClassifier\n",
        "from sklearn.model_selection import cross_val_score\n",
        "\n",
        "from google.colab import drive  \n",
        "drive.mount('/content/drive')"
      ],
      "execution_count": 3,
      "outputs": [
        {
          "output_type": "stream",
          "text": [
            "Drive already mounted at /content/drive; to attempt to forcibly remount, call drive.mount(\"/content/drive\", force_remount=True).\n"
          ],
          "name": "stdout"
        }
      ]
    },
    {
      "cell_type": "code",
      "metadata": {
        "id": "9SzB179K_e1E"
      },
      "source": [
        "df = pd.read_csv('.../wifi_localization.txt', names=['WS1',\t'WS2',\t'WS3',\t'WS4',\t'WS5',\t'WS6',\t'WS7',\t'Class'], sep='\\t')\n",
        "\n",
        "df.drop('WS6', axis=1, inplace=True)\n",
        "df.drop('WS7', axis=1, inplace=True)\n",
        "\n",
        "X_train, X_test, y_train, y_test = train_test_split(df.values[:, :5],    \n",
        "                                                    df.values[:, -1] - 1, \n",
        "                                                    test_size=0.25, \n",
        "                                                    random_state=20)\n",
        "X_train, X_val, y_train, y_val = train_test_split(X_train,                         \n",
        "                                                y_train, \n",
        "                                                test_size=0.10, \n",
        "                                                random_state=20)"
      ],
      "execution_count": 4,
      "outputs": []
    },
    {
      "cell_type": "code",
      "metadata": {
        "id": "ZfyyxddeH4O-",
        "colab": {
          "base_uri": "https://localhost:8080/"
        },
        "outputId": "2d1082c3-5686-4eb4-9b88-39c1e11918d2"
      },
      "source": [
        "scaler = StandardScaler()\n",
        "print(scaler.fit(X_train))\n",
        "\n",
        "X_train_scaled = scaler.transform(X_train)                        \n",
        "X_test_scaled = scaler.transform(X_test)\n",
        "X_val_scaled = scaler.transform(X_val)\n",
        "\n",
        "\n",
        "def create_model(learn_rate=0.01, \n",
        "                 momentum=0.8,\n",
        "                 k_l1=0.01, \n",
        "                 k_l2=0, \n",
        "                 k_l1_l2=0,\n",
        "                 neurons_1=6,\n",
        "                 neurons_2=9):\n",
        "  model = Sequential([\n",
        "    Dense(neurons_1, input_shape=(5,), activation='relu',kernel_regularizer=regularizers.l1(k_l1)),\n",
        "    Dense(neurons_2, activation='relu',kernel_regularizer=regularizers.l1(k_l1)),\n",
        "    Dense(4, activation='softmax',kernel_regularizer=regularizers.l1(k_l1))])\n",
        "\n",
        "  model.compile(optimizer=SGD(lr=learn_rate, momentum=momentum),              \n",
        "                loss='sparse_categorical_crossentropy', \n",
        "                metrics=['sparse_categorical_accuracy'])\n",
        "                              \n",
        "  return model\n",
        "\n",
        "early_Stop = EarlyStopping(monitor='val_loss',                           \n",
        "                           patience=20,\n",
        "                           verbose=2,                        \n",
        "                           restore_best_weights=True)\n"
      ],
      "execution_count": 5,
      "outputs": [
        {
          "output_type": "stream",
          "text": [
            "StandardScaler(copy=True, with_mean=True, with_std=True)\n"
          ],
          "name": "stdout"
        }
      ]
    },
    {
      "cell_type": "code",
      "metadata": {
        "id": "RB6EiXYW_mwF",
        "colab": {
          "base_uri": "https://localhost:8080/"
        },
        "outputId": "7293e3a5-e933-4dde-9e95-592a304afc2f"
      },
      "source": [
        "model = create_model(k_l1=0.01, learn_rate=0.01, momentum=0.8, neurons_1=6, neurons_2=9)\n",
        "model.fit(X_train_scaled, y_train, epochs=1000, callbacks = [early_Stop], validation_data=(X_val_scaled, y_val), verbose=0)\n",
        "\n",
        "print('test: ', model.evaluate(X_test_scaled, y_test))\n"
      ],
      "execution_count": 6,
      "outputs": [
        {
          "output_type": "stream",
          "text": [
            "WARNING:tensorflow:From /tensorflow-1.15.2/python3.6/tensorflow_core/python/ops/resource_variable_ops.py:1630: calling BaseResourceVariable.__init__ (from tensorflow.python.ops.resource_variable_ops) with constraint is deprecated and will be removed in a future version.\n",
            "Instructions for updating:\n",
            "If using Keras pass *_constraint arguments to layers.\n",
            "Restoring model weights from the end of the best epoch\n",
            "Epoch 00780: early stopping\n",
            "500/500 [==============================] - 0s 50us/sample - loss: 0.2705 - sparse_categorical_accuracy: 0.9820\n",
            "test:  [0.2705286670923233, 0.982]\n"
          ],
          "name": "stdout"
        }
      ]
    }
  ]
}