{
  "nbformat": 4,
  "nbformat_minor": 0,
  "metadata": {
    "colab": {
      "name": "wifi_localization_Training_model.ipynb",
      "provenance": [],
      "collapsed_sections": [],
      "include_colab_link": true
    },
    "kernelspec": {
      "name": "python3",
      "display_name": "Python 3"
    },
    "accelerator": "GPU"
  },
  "cells": [
    {
      "cell_type": "markdown",
      "metadata": {
        "id": "view-in-github",
        "colab_type": "text"
      },
      "source": [
        "<a href=\"https://colab.research.google.com/github/DmytroBuzanov/DS_ML/blob/main/wifi_localization_Training_model.ipynb\" target=\"_parent\"><img src=\"https://colab.research.google.com/assets/colab-badge.svg\" alt=\"Open In Colab\"/></a>"
      ]
    },
    {
      "cell_type": "code",
      "metadata": {
        "id": "oCn6VBy65YiU",
        "colab": {
          "base_uri": "https://localhost:8080/"
        },
        "outputId": "9dda6d17-0e24-4d01-a489-da3a2634155d"
      },
      "source": [
        "%tensorflow_version 2.x\n",
        "import numpy as np\n",
        "import pandas as pd\n",
        "import time\n",
        "import matplotlib.pyplot as plt\n",
        "from tensorflow.keras.models import Sequential\n",
        "from tensorflow.keras.layers import Dense, Activation\n",
        "from tensorflow.keras.callbacks import EarlyStopping \n",
        "from tensorflow.keras import regularizers\n",
        "from tensorflow.keras.wrappers.scikit_learn import KerasClassifier\n",
        "from tensorflow.keras import metrics\n",
        "from tensorflow.keras.optimizers import SGD  \n",
        "from sklearn.model_selection import train_test_split\n",
        "from sklearn.preprocessing import StandardScaler\n",
        "from sklearn.preprocessing import Normalizer\n",
        "from sklearn.model_selection import GridSearchCV\n",
        "from sklearn.metrics import confusion_matrix\n",
        "from sklearn.metrics import classification_report\n",
        "from mlxtend.plotting import plot_confusion_matrix\n",
        "\n",
        "from google.colab import drive  \n",
        "drive.mount('/content/drive')"
      ],
      "execution_count": 3,
      "outputs": [
        {
          "output_type": "stream",
          "text": [
            "Drive already mounted at /content/drive; to attempt to forcibly remount, call drive.mount(\"/content/drive\", force_remount=True).\n"
          ],
          "name": "stdout"
        }
      ]
    },
    {
      "cell_type": "code",
      "metadata": {
        "id": "NtL_lBtE5kR0"
      },
      "source": [
        "df = pd.read_csv('.../wifi_localization.txt', names=['WS1',\t'WS2',\t'WS3',\t'WS4',\t'WS5',\t'WS6',\t'WS7',\t'Class'], sep='\\t')\n"
      ],
      "execution_count": 4,
      "outputs": []
    },
    {
      "cell_type": "code",
      "metadata": {
        "id": "1uXD1YmftlUx",
        "colab": {
          "base_uri": "https://localhost:8080/"
        },
        "outputId": "dd9ffefe-341d-4e60-c802-0ea758d1965c"
      },
      "source": [
        "df.values[:, :7]"
      ],
      "execution_count": 5,
      "outputs": [
        {
          "output_type": "execute_result",
          "data": {
            "text/plain": [
              "array([[-64, -56, -61, ..., -71, -82, -81],\n",
              "       [-68, -57, -61, ..., -71, -85, -85],\n",
              "       [-63, -60, -60, ..., -76, -85, -84],\n",
              "       ...,\n",
              "       [-62, -59, -46, ..., -45, -87, -88],\n",
              "       [-62, -58, -52, ..., -41, -90, -85],\n",
              "       [-59, -50, -45, ..., -45, -88, -87]])"
            ]
          },
          "metadata": {
            "tags": []
          },
          "execution_count": 5
        }
      ]
    },
    {
      "cell_type": "markdown",
      "metadata": {
        "id": "NYcyPl4Z1U8r"
      },
      "source": [
        "**Розбиття датасету на 3 вибірки**"
      ]
    },
    {
      "cell_type": "code",
      "metadata": {
        "id": "1S5gAQw25lnm",
        "colab": {
          "base_uri": "https://localhost:8080/"
        },
        "outputId": "2235d83f-9633-462c-b2a4-eaaa4e5285b6"
      },
      "source": [
        "num_classes = 4\n",
        "X_train, X_test, y_train, y_test = train_test_split(df.values[:, :7],    \n",
        "                                                    df.values[:, -1] - 1, \n",
        "                                                    test_size=0.25,\n",
        "                                                    random_state=20)\n",
        "X_train, X_val, y_train, y_val = train_test_split(X_train,                         \n",
        "                                                y_train, \n",
        "                                                test_size=0.10, \n",
        "                                                random_state=20)\n",
        "\n",
        "print(X_train.shape, X_val.shape, X_test.shape)"
      ],
      "execution_count": 6,
      "outputs": [
        {
          "output_type": "stream",
          "text": [
            "(1350, 7) (150, 7) (500, 7)\n"
          ],
          "name": "stdout"
        }
      ]
    },
    {
      "cell_type": "markdown",
      "metadata": {
        "id": "7GcHa7c51fDx"
      },
      "source": [
        "**Нормалізація**"
      ]
    },
    {
      "cell_type": "code",
      "metadata": {
        "id": "RBeeHRgn5nXV",
        "colab": {
          "base_uri": "https://localhost:8080/"
        },
        "outputId": "43f17872-7906-488a-eb0e-97abc5a97ae4"
      },
      "source": [
        "scaler = StandardScaler()\n",
        "print(scaler.fit(X_train))\n",
        "\n",
        "X_train_scaled = scaler.transform(X_train)                        # Standard Score\n",
        "X_test_scaled = scaler.transform(X_test)\n",
        "X_val_scaled = scaler.transform(X_val)\n",
        "\n"
      ],
      "execution_count": 7,
      "outputs": [
        {
          "output_type": "stream",
          "text": [
            "StandardScaler(copy=True, with_mean=True, with_std=True)\n"
          ],
          "name": "stdout"
        }
      ]
    },
    {
      "cell_type": "code",
      "metadata": {
        "id": "jakiSA_55ogO"
      },
      "source": [
        "def create_model(learn_rate=0.01, \n",
        "                 momentum=0,\n",
        "                 k_l1=0, \n",
        "                 k_l2=0,\n",
        "                 neurons_1=1, \n",
        "                 neurons_2=1):\n",
        "  model = Sequential([\n",
        "    Dense(neurons_1, input_shape=(7,), activation='relu',kernel_regularizer=regularizers.l1_l2(k_l1, k_l2)),\n",
        "    # Dense(neurons, activation='relu',kernel_regularizer=regularizers.l1(k_l1)),\n",
        "    Dense(neurons_2, activation='relu',kernel_regularizer=regularizers.l1_l2(k_l1, k_l2)),\n",
        "    Dense(4, activation='softmax',kernel_regularizer=regularizers.l1_l2(k_l1, k_l2))])\n",
        "\n",
        "\n",
        "  \n",
        "\n",
        "  model.compile(optimizer=SGD(lr=learn_rate, momentum=momentum),              \n",
        "                loss='sparse_categorical_crossentropy', \n",
        "                metrics=['sparse_categorical_accuracy'])\n",
        "                               \n",
        "  return model"
      ],
      "execution_count": 8,
      "outputs": []
    },
    {
      "cell_type": "code",
      "metadata": {
        "id": "8lssYCww5p3G"
      },
      "source": [
        "cross_val_model = KerasClassifier(build_fn=create_model, epochs=1000, batch_size=32, verbose=0)"
      ],
      "execution_count": 9,
      "outputs": []
    },
    {
      "cell_type": "markdown",
      "metadata": {
        "id": "wRUAezCJdLg9"
      },
      "source": [
        "**Early Stopping**"
      ]
    },
    {
      "cell_type": "code",
      "metadata": {
        "id": "XjPdsX8e5rAe"
      },
      "source": [
        "early_Stop = EarlyStopping(monitor='val_loss',                                  # Early Stopping Regularization \n",
        "                           patience=20,\n",
        "                           verbose=1,                        \n",
        "                           restore_best_weights=True)"
      ],
      "execution_count": 10,
      "outputs": []
    },
    {
      "cell_type": "code",
      "metadata": {
        "id": "DIIJr8id5sbV",
        "colab": {
          "base_uri": "https://localhost:8080/"
        },
        "outputId": "7de9ce18-4624-4d1f-c81f-591826327d94"
      },
      "source": [
        "model = create_model(k_l1=0.01, learn_rate=0.01, momentum=0.8, neurons_1=6, neurons_2=9)\n",
        "\n",
        "history = model.fit(X_train_scaled, y_train, epochs=1000, callbacks = [early_Stop], validation_data=(X_val_scaled, y_val), verbose=0)\n",
        "\n",
        "model.evaluate(X_train_scaled, y_train), model.evaluate(X_val_scaled, y_val), model.evaluate(X_test_scaled, y_test)"
      ],
      "execution_count": 11,
      "outputs": [
        {
          "output_type": "stream",
          "text": [
            "Restoring model weights from the end of the best epoch.\n",
            "Epoch 00306: early stopping\n",
            "43/43 [==============================] - 0s 2ms/step - loss: 0.2699 - sparse_categorical_accuracy: 0.9867\n",
            "5/5 [==============================] - 0s 2ms/step - loss: 0.2698 - sparse_categorical_accuracy: 0.9800\n",
            "16/16 [==============================] - 0s 2ms/step - loss: 0.2846 - sparse_categorical_accuracy: 0.9800\n"
          ],
          "name": "stdout"
        },
        {
          "output_type": "execute_result",
          "data": {
            "text/plain": [
              "([0.26985782384872437, 0.9866666793823242],\n",
              " [0.26977285742759705, 0.9800000190734863],\n",
              " [0.28457438945770264, 0.9800000190734863])"
            ]
          },
          "metadata": {
            "tags": []
          },
          "execution_count": 11
        }
      ]
    },
    {
      "cell_type": "markdown",
      "metadata": {
        "id": "om1sQVM6Ragc"
      },
      "source": [
        "**Перехресна перевірка: Grid Search**"
      ]
    },
    {
      "cell_type": "code",
      "metadata": {
        "id": "soeDAIMJ5tyH"
      },
      "source": [
        "grid = GridSearchCV(estimator=cross_val_model, verbose=0, \n",
        "                                                                                \n",
        "                    scoring='accuracy',\n",
        "                    param_grid={'k_l1':[0.01],                                  \n",
        "                                'learn_rate':[0.01],                             \n",
        "                                'momentum':[0.8],                               \n",
        "                                'neurons_1':[6],                                \n",
        "                                'neurons_2':[9],                                \n",
        "                                },                           \n",
        "                    cv = 5) "
      ],
      "execution_count": 12,
      "outputs": []
    },
    {
      "cell_type": "code",
      "metadata": {
        "id": "8lEhJIdl5u_O",
        "colab": {
          "base_uri": "https://localhost:8080/"
        },
        "outputId": "d864e25f-0b81-4670-d041-41bff192686d"
      },
      "source": [
        "grid_result = grid.fit(X_train_scaled, y_train, callbacks = [early_Stop], validation_data=(X_val_scaled, y_val), verbose=0)\n",
        "\n",
        "print('The parameters of the best model are: ')\n",
        "print(grid_result.best_params_)\n",
        "\n",
        "best_model = grid_result.best_estimator_.model\n",
        "best_model.evaluate(X_test_scaled, y_test)"
      ],
      "execution_count": 13,
      "outputs": [
        {
          "output_type": "stream",
          "text": [
            "Restoring model weights from the end of the best epoch.\n",
            "Epoch 00743: early stopping\n",
            "WARNING:tensorflow:From /usr/local/lib/python3.6/dist-packages/tensorflow/python/keras/wrappers/scikit_learn.py:241: Sequential.predict_classes (from tensorflow.python.keras.engine.sequential) is deprecated and will be removed after 2021-01-01.\n",
            "Instructions for updating:\n",
            "Please use instead:* `np.argmax(model.predict(x), axis=-1)`,   if your model does multi-class classification   (e.g. if it uses a `softmax` last-layer activation).* `(model.predict(x) > 0.5).astype(\"int32\")`,   if your model does binary classification   (e.g. if it uses a `sigmoid` last-layer activation).\n",
            "Restoring model weights from the end of the best epoch.\n",
            "Epoch 00808: early stopping\n",
            "Restoring model weights from the end of the best epoch.\n",
            "Epoch 00669: early stopping\n",
            "Restoring model weights from the end of the best epoch.\n",
            "Epoch 00288: early stopping\n",
            "Restoring model weights from the end of the best epoch.\n",
            "Epoch 00498: early stopping\n",
            "Restoring model weights from the end of the best epoch.\n",
            "Epoch 00262: early stopping\n",
            "The parameters of the best model are: \n",
            "{'k_l1': 0.01, 'learn_rate': 0.01, 'momentum': 0.8, 'neurons_1': 6, 'neurons_2': 9}\n",
            "16/16 [==============================] - 0s 2ms/step - loss: 0.2718 - sparse_categorical_accuracy: 0.9820\n"
          ],
          "name": "stdout"
        },
        {
          "output_type": "execute_result",
          "data": {
            "text/plain": [
              "[0.2717519700527191, 0.9819999933242798]"
            ]
          },
          "metadata": {
            "tags": []
          },
          "execution_count": 13
        }
      ]
    },
    {
      "cell_type": "markdown",
      "metadata": {
        "id": "sbdIMaTfd6N7"
      },
      "source": [
        "**Візуалізація навчання моделі**"
      ]
    },
    {
      "cell_type": "code",
      "metadata": {
        "id": "m5XJ9Irbkf9v",
        "colab": {
          "base_uri": "https://localhost:8080/"
        },
        "outputId": "c9484f32-4153-476a-ffc5-1e358e2e7d0d"
      },
      "source": [
        "print(history.history.keys())\n",
        "print(history.history['sparse_categorical_accuracy'])\n",
        "print(history.history['val_sparse_categorical_accuracy'])"
      ],
      "execution_count": 14,
      "outputs": [
        {
          "output_type": "stream",
          "text": [
            "dict_keys(['loss', 'sparse_categorical_accuracy', 'val_loss', 'val_sparse_categorical_accuracy'])\n",
            "[0.3437037169933319, 0.5362963080406189, 0.7451851963996887, 0.8333333134651184, 0.9007407426834106, 0.9451851844787598, 0.9599999785423279, 0.9681481719017029, 0.9718518257141113, 0.9755555391311646, 0.9777777791023254, 0.9792592525482178, 0.9777777791023254, 0.9814814925193787, 0.9807407259941101, 0.9814814925193787, 0.9800000190734863, 0.9814814925193787, 0.9814814925193787, 0.982962965965271, 0.9814814925193787, 0.982962965965271, 0.9822221994400024, 0.9837037324905396, 0.9822221994400024, 0.9814814925193787, 0.982962965965271, 0.9837037324905396, 0.982962965965271, 0.9814814925193787, 0.982962965965271, 0.982962965965271, 0.9822221994400024, 0.9844444394111633, 0.9837037324905396, 0.9837037324905396, 0.982962965965271, 0.9837037324905396, 0.9822221994400024, 0.9837037324905396, 0.9837037324905396, 0.9837037324905396, 0.982962965965271, 0.9851852059364319, 0.9837037324905396, 0.9851852059364319, 0.9844444394111633, 0.9837037324905396, 0.9837037324905396, 0.9851852059364319, 0.9851852059364319, 0.9837037324905396, 0.9837037324905396, 0.9851852059364319, 0.9844444394111633, 0.9844444394111633, 0.9851852059364319, 0.9851852059364319, 0.9851852059364319, 0.982962965965271, 0.9851852059364319, 0.9859259128570557, 0.9851852059364319, 0.9866666793823242, 0.9859259128570557, 0.9837037324905396, 0.9866666793823242, 0.9859259128570557, 0.9859259128570557, 0.987407386302948, 0.9866666793823242, 0.9866666793823242, 0.9844444394111633, 0.9881481528282166, 0.987407386302948, 0.9859259128570557, 0.9859259128570557, 0.9881481528282166, 0.9866666793823242, 0.987407386302948, 0.9866666793823242, 0.9866666793823242, 0.9851852059364319, 0.987407386302948, 0.9866666793823242, 0.987407386302948, 0.987407386302948, 0.9866666793823242, 0.9859259128570557, 0.9881481528282166, 0.9866666793823242, 0.9859259128570557, 0.9859259128570557, 0.9866666793823242, 0.9851852059364319, 0.9866666793823242, 0.9851852059364319, 0.9881481528282166, 0.987407386302948, 0.9866666793823242, 0.9866666793823242, 0.9859259128570557, 0.9844444394111633, 0.9859259128570557, 0.987407386302948, 0.9859259128570557, 0.9859259128570557, 0.987407386302948, 0.9881481528282166, 0.9866666793823242, 0.9859259128570557, 0.987407386302948, 0.9881481528282166, 0.987407386302948, 0.987407386302948, 0.987407386302948, 0.9859259128570557, 0.987407386302948, 0.9859259128570557, 0.9859259128570557, 0.9866666793823242, 0.9859259128570557, 0.987407386302948, 0.9851852059364319, 0.9866666793823242, 0.9851852059364319, 0.9859259128570557, 0.9866666793823242, 0.9881481528282166, 0.9859259128570557, 0.987407386302948, 0.9866666793823242, 0.9859259128570557, 0.9851852059364319, 0.9851852059364319, 0.9851852059364319, 0.9866666793823242, 0.9851852059364319, 0.9859259128570557, 0.9851852059364319, 0.9859259128570557, 0.9851852059364319, 0.9859259128570557, 0.9866666793823242, 0.9859259128570557, 0.9866666793823242, 0.987407386302948, 0.9851852059364319, 0.9866666793823242, 0.9851852059364319, 0.9851852059364319, 0.9881481528282166, 0.9844444394111633, 0.9866666793823242, 0.9851852059364319, 0.9859259128570557, 0.987407386302948, 0.9866666793823242, 0.987407386302948, 0.9859259128570557, 0.987407386302948, 0.987407386302948, 0.987407386302948, 0.9859259128570557, 0.9851852059364319, 0.987407386302948, 0.9844444394111633, 0.9851852059364319, 0.9859259128570557, 0.9859259128570557, 0.982962965965271, 0.9851852059364319, 0.9859259128570557, 0.9881481528282166, 0.9866666793823242, 0.9859259128570557, 0.987407386302948, 0.9866666793823242, 0.9859259128570557, 0.9851852059364319, 0.9881481528282166, 0.9851852059364319, 0.9866666793823242, 0.9866666793823242, 0.9866666793823242, 0.9844444394111633, 0.9851852059364319, 0.987407386302948, 0.9866666793823242, 0.987407386302948, 0.9881481528282166, 0.9859259128570557, 0.9859259128570557, 0.9859259128570557, 0.9851852059364319, 0.9866666793823242, 0.9866666793823242, 0.9866666793823242, 0.9844444394111633, 0.9866666793823242, 0.9851852059364319, 0.987407386302948, 0.9844444394111633, 0.9859259128570557, 0.987407386302948, 0.987407386302948, 0.9851852059364319, 0.9859259128570557, 0.9881481528282166, 0.9866666793823242, 0.9859259128570557, 0.9866666793823242, 0.9837037324905396, 0.9859259128570557, 0.9866666793823242, 0.9881481528282166, 0.9866666793823242, 0.987407386302948, 0.9866666793823242, 0.9851852059364319, 0.987407386302948, 0.9866666793823242, 0.987407386302948, 0.9866666793823242, 0.9851852059364319, 0.9859259128570557, 0.9859259128570557, 0.9859259128570557, 0.9859259128570557, 0.9859259128570557, 0.987407386302948, 0.9866666793823242, 0.987407386302948, 0.9851852059364319, 0.9851852059364319, 0.9851852059364319, 0.9881481528282166, 0.9859259128570557, 0.9866666793823242, 0.9866666793823242, 0.9866666793823242, 0.9866666793823242, 0.9866666793823242, 0.987407386302948, 0.9851852059364319, 0.987407386302948, 0.9859259128570557, 0.9866666793823242, 0.9859259128570557, 0.9866666793823242, 0.9881481528282166, 0.9851852059364319, 0.9881481528282166, 0.9888888597488403, 0.9859259128570557, 0.9866666793823242, 0.987407386302948, 0.987407386302948, 0.9851852059364319, 0.9844444394111633, 0.9881481528282166, 0.987407386302948, 0.9851852059364319, 0.9866666793823242, 0.9866666793823242, 0.9866666793823242, 0.9859259128570557, 0.9866666793823242, 0.9859259128570557, 0.9866666793823242, 0.9851852059364319, 0.987407386302948, 0.9851852059364319, 0.987407386302948, 0.987407386302948, 0.987407386302948, 0.9866666793823242, 0.9851852059364319, 0.9844444394111633, 0.987407386302948, 0.9881481528282166, 0.987407386302948, 0.9844444394111633, 0.9888888597488403, 0.987407386302948, 0.9866666793823242, 0.9859259128570557, 0.9866666793823242, 0.9881481528282166, 0.9888888597488403, 0.987407386302948, 0.9851852059364319, 0.9866666793823242, 0.9866666793823242, 0.987407386302948, 0.9866666793823242, 0.987407386302948, 0.9859259128570557, 0.9866666793823242, 0.9881481528282166, 0.9881481528282166, 0.9859259128570557, 0.9866666793823242, 0.9888888597488403, 0.987407386302948, 0.9851852059364319]\n",
            "[0.5133333206176758, 0.6200000047683716, 0.8066666722297668, 0.8733333349227905, 0.9200000166893005, 0.9333333373069763, 0.9599999785423279, 0.9599999785423279, 0.9666666388511658, 0.9666666388511658, 0.9733333587646484, 0.9733333587646484, 0.9733333587646484, 0.9800000190734863, 0.9733333587646484, 0.9933333396911621, 0.9866666793823242, 0.9933333396911621, 0.9866666793823242, 0.9933333396911621, 0.9933333396911621, 0.9866666793823242, 0.9933333396911621, 0.9866666793823242, 0.9866666793823242, 0.9933333396911621, 0.9866666793823242, 0.9866666793823242, 0.9866666793823242, 0.9866666793823242, 0.9866666793823242, 0.9866666793823242, 0.9866666793823242, 0.9866666793823242, 0.9866666793823242, 0.9866666793823242, 0.9866666793823242, 0.9866666793823242, 0.9866666793823242, 0.9866666793823242, 0.9866666793823242, 0.9800000190734863, 0.9866666793823242, 0.9866666793823242, 0.9866666793823242, 0.9800000190734863, 0.9866666793823242, 0.9800000190734863, 0.9866666793823242, 0.9800000190734863, 0.9800000190734863, 0.9800000190734863, 0.9866666793823242, 0.9866666793823242, 0.9866666793823242, 0.9866666793823242, 0.9866666793823242, 0.9800000190734863, 0.9866666793823242, 0.9800000190734863, 0.9800000190734863, 0.9800000190734863, 0.9866666793823242, 0.9866666793823242, 0.9866666793823242, 0.9866666793823242, 0.9800000190734863, 0.9866666793823242, 0.9800000190734863, 0.9866666793823242, 0.9800000190734863, 0.9866666793823242, 0.9800000190734863, 0.9866666793823242, 0.9800000190734863, 0.9800000190734863, 0.9800000190734863, 0.9866666793823242, 0.9800000190734863, 0.9866666793823242, 0.9866666793823242, 0.9866666793823242, 0.9866666793823242, 0.9866666793823242, 0.9800000190734863, 0.9866666793823242, 0.9800000190734863, 0.9800000190734863, 0.9866666793823242, 0.9800000190734863, 0.9800000190734863, 0.9800000190734863, 0.9800000190734863, 0.9800000190734863, 0.9866666793823242, 0.9866666793823242, 0.9866666793823242, 0.9866666793823242, 0.9800000190734863, 0.9866666793823242, 0.9866666793823242, 0.9800000190734863, 0.9866666793823242, 0.9866666793823242, 0.9800000190734863, 0.9800000190734863, 0.9866666793823242, 0.9800000190734863, 0.9800000190734863, 0.9866666793823242, 0.9800000190734863, 0.9800000190734863, 0.9800000190734863, 0.9800000190734863, 0.9800000190734863, 0.9800000190734863, 0.9866666793823242, 0.9800000190734863, 0.9800000190734863, 0.9800000190734863, 0.9800000190734863, 0.9800000190734863, 0.9800000190734863, 0.9800000190734863, 0.9866666793823242, 0.9800000190734863, 0.9866666793823242, 0.9800000190734863, 0.9800000190734863, 0.9800000190734863, 0.9866666793823242, 0.9800000190734863, 0.9800000190734863, 0.9866666793823242, 0.9800000190734863, 0.9800000190734863, 0.9800000190734863, 0.9800000190734863, 0.9866666793823242, 0.9866666793823242, 0.9800000190734863, 0.9800000190734863, 0.9866666793823242, 0.9800000190734863, 0.9800000190734863, 0.9866666793823242, 0.9800000190734863, 0.9866666793823242, 0.9800000190734863, 0.9866666793823242, 0.9800000190734863, 0.9866666793823242, 0.9866666793823242, 0.9866666793823242, 0.9800000190734863, 0.9800000190734863, 0.9800000190734863, 0.9800000190734863, 0.9866666793823242, 0.9866666793823242, 0.9866666793823242, 0.9800000190734863, 0.9866666793823242, 0.9800000190734863, 0.9866666793823242, 0.9800000190734863, 0.9800000190734863, 0.9866666793823242, 0.9800000190734863, 0.9866666793823242, 0.9800000190734863, 0.9866666793823242, 0.9866666793823242, 0.9866666793823242, 0.9866666793823242, 0.9866666793823242, 0.9800000190734863, 0.9800000190734863, 0.9800000190734863, 0.9866666793823242, 0.9866666793823242, 0.9800000190734863, 0.9866666793823242, 0.9800000190734863, 0.9866666793823242, 0.9866666793823242, 0.9866666793823242, 0.9800000190734863, 0.9866666793823242, 0.9866666793823242, 0.9866666793823242, 0.9866666793823242, 0.9800000190734863, 0.9800000190734863, 0.9800000190734863, 0.9866666793823242, 0.9800000190734863, 0.9866666793823242, 0.9866666793823242, 0.9866666793823242, 0.9866666793823242, 0.9800000190734863, 0.9866666793823242, 0.9866666793823242, 0.9866666793823242, 0.9800000190734863, 0.9866666793823242, 0.9800000190734863, 0.9866666793823242, 0.9866666793823242, 0.9866666793823242, 0.9866666793823242, 0.9800000190734863, 0.9866666793823242, 0.9800000190734863, 0.9800000190734863, 0.9800000190734863, 0.9866666793823242, 0.9866666793823242, 0.9866666793823242, 0.9866666793823242, 0.9866666793823242, 0.9866666793823242, 0.9866666793823242, 0.9866666793823242, 0.9866666793823242, 0.9866666793823242, 0.9866666793823242, 0.9866666793823242, 0.9866666793823242, 0.9800000190734863, 0.9866666793823242, 0.9866666793823242, 0.9866666793823242, 0.9800000190734863, 0.9800000190734863, 0.9866666793823242, 0.9866666793823242, 0.9866666793823242, 0.9800000190734863, 0.9800000190734863, 0.9866666793823242, 0.9866666793823242, 0.9866666793823242, 0.9800000190734863, 0.9800000190734863, 0.9800000190734863, 0.9800000190734863, 0.9866666793823242, 0.9866666793823242, 0.9866666793823242, 0.9866666793823242, 0.9866666793823242, 0.9866666793823242, 0.9866666793823242, 0.9800000190734863, 0.9866666793823242, 0.9866666793823242, 0.9866666793823242, 0.9866666793823242, 0.9800000190734863, 0.9866666793823242, 0.9866666793823242, 0.9866666793823242, 0.9866666793823242, 0.9866666793823242, 0.9800000190734863, 0.9800000190734863, 0.9800000190734863, 0.9866666793823242, 0.9800000190734863, 0.9800000190734863, 0.9866666793823242, 0.9866666793823242, 0.9866666793823242, 0.9866666793823242, 0.9866666793823242, 0.9866666793823242, 0.9800000190734863, 0.9866666793823242, 0.9866666793823242, 0.9866666793823242, 0.9866666793823242, 0.9866666793823242, 0.9866666793823242, 0.9800000190734863, 0.9866666793823242, 0.9866666793823242, 0.9866666793823242, 0.9800000190734863, 0.9866666793823242, 0.9866666793823242, 0.9866666793823242, 0.9800000190734863, 0.9866666793823242, 0.9866666793823242, 0.9866666793823242, 0.9800000190734863, 0.9866666793823242, 0.9866666793823242, 0.9866666793823242, 0.9866666793823242, 0.9866666793823242, 0.9800000190734863, 0.9866666793823242, 0.9800000190734863]\n"
          ],
          "name": "stdout"
        }
      ]
    },
    {
      "cell_type": "code",
      "metadata": {
        "id": "-yHWZxwyk-Fq",
        "colab": {
          "base_uri": "https://localhost:8080/",
          "height": 279
        },
        "outputId": "1d0eaaef-c15f-4e00-efef-e952ca87189a"
      },
      "source": [
        "plt.plot(history.history['sparse_categorical_accuracy'], label='Точність на навчальному наборі')\n",
        "plt.plot(history.history['val_sparse_categorical_accuracy'], label='Точність на тестовому наборі')\n",
        "plt.xlabel('Епоха навчання')\n",
        "plt.ylabel('Точність')\n",
        "plt.legend()\n",
        "plt.show()"
      ],
      "execution_count": 15,
      "outputs": [
        {
          "output_type": "display_data",
          "data": {
            "image/png": "[encoded data removed]",
            "text/plain": [
              "<Figure size 432x288 with 1 Axes>"
            ]
          },
          "metadata": {
            "tags": [],
            "needs_background": "light"
          }
        }
      ]
    },
    {
      "cell_type": "code",
      "metadata": {
        "id": "rJGANHRpmEtD",
        "colab": {
          "base_uri": "https://localhost:8080/",
          "height": 279
        },
        "outputId": "fc36fcc1-dc7f-47ce-f6e7-0199c80d2224"
      },
      "source": [
        "plt.plot(history.history['loss'], label='Помилка на навчальному наборі')\n",
        "plt.plot(history.history['val_loss'], label='Помилка на тестовому наборі')\n",
        "plt.xlabel('Епоха навчання')\n",
        "plt.ylabel('Помилка')\n",
        "plt.legend()\n",
        "plt.show()"
      ],
      "execution_count": 16,
      "outputs": [
        {
          "output_type": "display_data",
          "data": {
            "image/png": "[encoded data removed]",
            "text/plain": [
              "<Figure size 432x288 with 1 Axes>"
            ]
          },
          "metadata": {
            "tags": [],
            "needs_background": "light"
          }
        }
      ]
    },
    {
      "cell_type": "markdown",
      "metadata": {
        "id": "pkUioZSzjCHO"
      },
      "source": [
        "**Матриця помилок**"
      ]
    },
    {
      "cell_type": "code",
      "metadata": {
        "id": "4QwtmCXwJgqK",
        "colab": {
          "base_uri": "https://localhost:8080/"
        },
        "outputId": "4828e25a-5fcd-4a92-ca57-44cbceaf7352"
      },
      "source": [
        "y_pred = np.argmax(model.predict(X_test_scaled), axis=1)\n",
        "confusion_matrix(y_test, y_pred)"
      ],
      "execution_count": 17,
      "outputs": [
        {
          "output_type": "execute_result",
          "data": {
            "text/plain": [
              "array([[134,   0,   0,   0],\n",
              "       [  0, 130,   2,   0],\n",
              "       [  1,   3, 107,   1],\n",
              "       [  1,   0,   2, 119]])"
            ]
          },
          "metadata": {
            "tags": []
          },
          "execution_count": 17
        }
      ]
    },
    {
      "cell_type": "code",
      "metadata": {
        "id": "pdS-uu4kMNtw",
        "colab": {
          "base_uri": "https://localhost:8080/",
          "height": 632
        },
        "outputId": "2f701928-ce16-4296-ddb6-c28bd136f030"
      },
      "source": [
        "plt.rcParams.update({'font.size': 16})\n",
        "\n",
        "cm  = confusion_matrix(y_test, y_pred)\n",
        "plt.figure()\n",
        "plot_confusion_matrix(cm,figsize=(10, 10), hide_ticks=True,cmap=plt.cm.Blues)\n",
        "plt.xticks(range(4), ['Приміщення 1', 'Приміщення 2', 'Приміщення 3', 'Приміщення 4'], fontsize=14)\n",
        "plt.yticks(range(4), ['Приміщення 1', 'Приміщення 2', 'Приміщення 3', 'Приміщення 4'], rotation=0, fontsize=14) \n",
        "plt.show()"
      ],
      "execution_count": 18,
      "outputs": [
        {
          "output_type": "display_data",
          "data": {
            "text/plain": [
              "<Figure size 432x288 with 0 Axes>"
            ]
          },
          "metadata": {
            "tags": []
          }
        },
        {
          "output_type": "display_data",
          "data": {
            "image/png": "[encoded data removed]",
            "text/plain": [
              "<Figure size 720x720 with 1 Axes>"
            ]
          },
          "metadata": {
            "tags": [],
            "needs_background": "light"
          }
        }
      ]
    },
    {
      "cell_type": "markdown",
      "metadata": {
        "id": "jI4tOabWc4Id"
      },
      "source": [
        "**Classification report**"
      ]
    },
    {
      "cell_type": "code",
      "metadata": {
        "id": "F_ZuOPzi-5ac",
        "colab": {
          "base_uri": "https://localhost:8080/"
        },
        "outputId": "43c7bf78-d49f-4ba1-dec1-9823322e7031"
      },
      "source": [
        "print (classification_report(y_test, y_pred))"
      ],
      "execution_count": 19,
      "outputs": [
        {
          "output_type": "stream",
          "text": [
            "              precision    recall  f1-score   support\n",
            "\n",
            "           0       0.99      1.00      0.99       134\n",
            "           1       0.98      0.98      0.98       132\n",
            "           2       0.96      0.96      0.96       112\n",
            "           3       0.99      0.98      0.98       122\n",
            "\n",
            "    accuracy                           0.98       500\n",
            "   macro avg       0.98      0.98      0.98       500\n",
            "weighted avg       0.98      0.98      0.98       500\n",
            "\n"
          ],
          "name": "stdout"
        }
      ]
    }
  ]
}